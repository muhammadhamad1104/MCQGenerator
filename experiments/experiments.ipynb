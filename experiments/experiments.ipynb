{
 "cells": [
  {
   "cell_type": "code",
   "execution_count": 4,
   "id": "34a6ade4",
   "metadata": {},
   "outputs": [],
   "source": [
    "from langchain.llms import OpenAI\n",
    "from langchain_google_genai import ChatGoogleGenerativeAI\n",
    "from langchain.chat_models import ChatOpenAI\n",
    "from langchain.prompts import PromptTemplate\n",
    "from langchain.chains import LLMChain\n",
    "from langchain.chains import SequentialChain\n",
    "from langchain.callbacks import get_openai_callback\n",
    "import os\n",
    "import json\n",
    "import pandas as pd\n",
    "import traceback\n",
    "from dotenv import load_dotenv\n",
    "import PyPDF2\n"
   ]
  },
  {
   "cell_type": "code",
   "execution_count": 5,
   "id": "f9ca3f5f",
   "metadata": {},
   "outputs": [
    {
     "data": {
      "text/plain": [
       "True"
      ]
     },
     "execution_count": 5,
     "metadata": {},
     "output_type": "execute_result"
    }
   ],
   "source": [
    "load_dotenv()"
   ]
  },
  {
   "cell_type": "code",
   "execution_count": 6,
   "id": "ac24d917",
   "metadata": {},
   "outputs": [],
   "source": [
    "# key = os.getenv(\"OPENAI_API_KEY\")\n",
    "key = os.getenv(\"GEMINI_API_KEY\")"
   ]
  },
  {
   "cell_type": "code",
   "execution_count": 7,
   "id": "9ebcf213",
   "metadata": {},
   "outputs": [],
   "source": [
    "# llm = ChatOpenAI(openai_api_key=key,model_name=\"gpt-3.5-turbo\", temperature=0.3)\n",
    "llm = ChatGoogleGenerativeAI(model=\"gemini-2.0-flash\", google_api_key=key,temperature=0.7)"
   ]
  },
  {
   "cell_type": "code",
   "execution_count": 8,
   "id": "09a6a117",
   "metadata": {},
   "outputs": [],
   "source": [
    "RESPONSE_JSON = {\n",
    "    \"1\": {\n",
    "        \"mcq\": \"multiple choice question\",\n",
    "        \"options\": {\n",
    "            \"a\": \"choice here\",\n",
    "            \"b\": \"choice here\",\n",
    "            \"c\": \"choice here\",\n",
    "            \"d\": \"choice here\",\n",
    "        },\n",
    "        \"correct\": \"correct answer\",\n",
    "    },\n",
    "    \"2\": {\n",
    "        \"mcq\": \"multiple choice question\",\n",
    "        \"options\": {\n",
    "            \"a\": \"choice here\",\n",
    "            \"b\": \"choice here\",\n",
    "            \"c\": \"choice here\",\n",
    "            \"d\": \"choice here\",\n",
    "        },\n",
    "        \"correct\": \"correct answer\",\n",
    "    },\n",
    "    \"3\": {\n",
    "        \"mcq\": \"multiple choice question\",\n",
    "        \"options\": {\n",
    "            \"a\": \"choice here\",\n",
    "            \"b\": \"choice here\",\n",
    "            \"c\": \"choice here\",\n",
    "            \"d\": \"choice here\",\n",
    "        },\n",
    "        \"correct\": \"correct answer\",\n",
    "    },\n",
    "}\n"
   ]
  },
  {
   "cell_type": "code",
   "execution_count": 9,
   "id": "b600aa4c",
   "metadata": {},
   "outputs": [
    {
     "data": {
      "text/plain": [
       "'\\nnumber=5 \\nsubject=\"data science\"\\ntone=\"simple\"\\n'"
      ]
     },
     "execution_count": 9,
     "metadata": {},
     "output_type": "execute_result"
    }
   ],
   "source": [
    "\"\"\"\n",
    "number=5 \n",
    "subject=\"data science\"\n",
    "tone=\"simple\"\n",
    "\"\"\""
   ]
  },
  {
   "cell_type": "code",
   "execution_count": 10,
   "id": "619fa64e",
   "metadata": {},
   "outputs": [],
   "source": [
    "TEMPLATE=\"\"\"\n",
    "Text:{text}\n",
    "You are an expert MCQ maker. Given the above text, it is your job to \\\n",
    "create a quiz  of {number} multiple choice questions for {subject} students in {tone} tone. \n",
    "Make sure the questions are not repeated and check all the questions to be conforming the text as well.\n",
    "Make sure to format your response like  RESPONSE_JSON below  and use it as a guide. \\\n",
    "Ensure to make {number} MCQs\n",
    "### RESPONSE_JSON\n",
    "{response_json}\n",
    "\n",
    "\"\"\""
   ]
  },
  {
   "cell_type": "code",
   "execution_count": 11,
   "id": "d27b1155",
   "metadata": {},
   "outputs": [],
   "source": [
    "quiz_generation_prompt = PromptTemplate(\n",
    "    input_variables=[\"text\", \"number\", \"subject\", \"tone\", \"response_json\"],\n",
    "    template=TEMPLATE\n",
    "    )\n"
   ]
  },
  {
   "cell_type": "code",
   "execution_count": 12,
   "id": "6a096a72",
   "metadata": {},
   "outputs": [
    {
     "data": {
      "text/plain": [
       "PromptTemplate(input_variables=['number', 'response_json', 'subject', 'text', 'tone'], input_types={}, partial_variables={}, template='\\nText:{text}\\nYou are an expert MCQ maker. Given the above text, it is your job to create a quiz  of {number} multiple choice questions for {subject} students in {tone} tone. \\nMake sure the questions are not repeated and check all the questions to be conforming the text as well.\\nMake sure to format your response like  RESPONSE_JSON below  and use it as a guide. Ensure to make {number} MCQs\\n### RESPONSE_JSON\\n{response_json}\\n\\n')"
      ]
     },
     "execution_count": 12,
     "metadata": {},
     "output_type": "execute_result"
    }
   ],
   "source": [
    "quiz_generation_prompt"
   ]
  },
  {
   "cell_type": "code",
   "execution_count": 13,
   "id": "3dfef61b",
   "metadata": {},
   "outputs": [],
   "source": [
    "quiz_chain=LLMChain(llm=llm, prompt=quiz_generation_prompt, output_key=\"quiz\", verbose=True)"
   ]
  },
  {
   "cell_type": "code",
   "execution_count": 14,
   "id": "d6312a8e",
   "metadata": {},
   "outputs": [],
   "source": [
    "TEMPLATE1=\"\"\"\n",
    "You are an expert english grammarian and writer. Given a Multiple Choice Quiz for {subject} students.\\\n",
    "You need to evaluate the complexity of the question and give a complete analysis of the quiz. Only use at max 50 words for complexity analysis. \n",
    "if the quiz is not at per with the cognitive and analytical abilities of the students,\\\n",
    "update the quiz questions which needs to be changed and change the tone such that it perfectly fits the student abilities\n",
    "Quiz_MCQs:\n",
    "{quiz}\n",
    "\n",
    "Check from an expert English Writer of the above quiz:\n",
    "\"\"\""
   ]
  },
  {
   "cell_type": "code",
   "execution_count": 15,
   "id": "f28f18d4",
   "metadata": {},
   "outputs": [],
   "source": [
    "quiz_evaluation_prompt=PromptTemplate(input_variables=[\"subject\", \"quiz\"], template=TEMPLATE1)"
   ]
  },
  {
   "cell_type": "code",
   "execution_count": 16,
   "id": "31f7e038",
   "metadata": {},
   "outputs": [],
   "source": [
    "review_chain=LLMChain(llm=llm, prompt=quiz_evaluation_prompt, output_key=\"review\", verbose=True)"
   ]
  },
  {
   "cell_type": "code",
   "execution_count": 17,
   "id": "961aea16",
   "metadata": {},
   "outputs": [],
   "source": [
    "generate_evaluate_chain=SequentialChain(chains=[quiz_chain, review_chain], input_variables=[\"text\", \"number\", \"subject\", \"tone\", \"response_json\"],\n",
    "                                        output_variables=[\"quiz\", \"review\"], verbose=True,)"
   ]
  },
  {
   "cell_type": "code",
   "execution_count": 18,
   "id": "8e683596",
   "metadata": {},
   "outputs": [
    {
     "name": "stderr",
     "output_type": "stream",
     "text": [
      "<>:1: SyntaxWarning: invalid escape sequence '\\B'\n",
      "<>:1: SyntaxWarning: invalid escape sequence '\\B'\n",
      "C:\\Users\\muham\\AppData\\Local\\Temp\\ipykernel_12364\\1089060505.py:1: SyntaxWarning: invalid escape sequence '\\B'\n",
      "  \"\"\"pdf_reader=PyPDF2.PdfReader(r\"experiments\\Big Data Assesment.pdf\")\n"
     ]
    },
    {
     "data": {
      "text/plain": [
       "'pdf_reader=PyPDF2.PdfReader(r\"experiments\\\\Big Data Assesment.pdf\")\\ntext = \"\"\\nfor page in pdf_reader.pages:\\n    text += page.extract_text()'"
      ]
     },
     "execution_count": 18,
     "metadata": {},
     "output_type": "execute_result"
    }
   ],
   "source": [
    "\"\"\"pdf_reader=PyPDF2.PdfReader(r\"experiments\\Big Data Assesment.pdf\")\n",
    "text = \"\"\n",
    "for page in pdf_reader.pages:\n",
    "    text += page.extract_text()\"\"\""
   ]
  },
  {
   "cell_type": "code",
   "execution_count": 19,
   "id": "5a50d1c5",
   "metadata": {},
   "outputs": [],
   "source": [
    "from pathlib import Path\n",
    "file_path=r\"D:\\MCQGenerator\\test.txt\""
   ]
  },
  {
   "cell_type": "code",
   "execution_count": 20,
   "id": "9e24e9d3",
   "metadata": {},
   "outputs": [
    {
     "data": {
      "text/plain": [
       "'D:\\\\MCQGenerator\\\\test.txt'"
      ]
     },
     "execution_count": 20,
     "metadata": {},
     "output_type": "execute_result"
    }
   ],
   "source": [
    "file_path"
   ]
  },
  {
   "cell_type": "code",
   "execution_count": 21,
   "id": "e961afa2",
   "metadata": {},
   "outputs": [],
   "source": [
    "with open(file_path, 'r') as file:\n",
    "    TEXT = file.read()"
   ]
  },
  {
   "cell_type": "code",
   "execution_count": 22,
   "id": "ed73c2a0",
   "metadata": {},
   "outputs": [
    {
     "data": {
      "text/plain": [
       "'Data science is an interdisciplinary academic field[1] that uses statistics, scientific computing, scientific methods, processes, algorithms and systems to extract or extrapolate knowledge and insights from noisy, structured, and unstructured data.[2]\\n\\nData science also integrates domain knowledge from the underlying application domain (e.g., natural sciences, information technology, and medicine).[3] Data science is multifaceted and can be described as a science, a research paradigm, a research method, a discipline, a workflow, and a profession.[4]\\n\\nData science is a \"concept to unify statistics, data analysis, informatics, and their related methods\" to \"understand and analyze actual phenomena\" with data.[5] It uses techniques and theories drawn from many fields within the context of mathematics, statistics, computer science, information science, and domain knowledge.[6] However, data science is different from computer science and information science. Turing Award winner Jim Gray imagined data science as a \"fourth paradigm\" of science (empirical, theoretical, computational, and now data-driven) and asserted that \"everything about science is changing because of the impact of information technology\" and the data deluge.[7][8]\\n\\nA data scientist is a professional who creates programming code and combines it with statistical knowledge to create insights from data.[9]\\n\\nFoundations\\nData science is an interdisciplinary field[10] focused on extracting knowledge from typically large data sets and applying the knowledge and insights from that data to solve problems in a wide range of application domains. The field encompasses preparing data for analysis, formulating data science problems, analyzing data, developing data-driven solutions, and presenting findings to inform high-level decisions in a broad range of application domains. As such, it incorporates skills from computer science, statistics, information science, mathematics, data visualization, information visualization, data sonification, data integration, graphic design, complex systems, communication and business.[11][12] Statistician Nathan Yau, drawing on Ben Fry, also links data science to human–computer interaction: users should be able to intuitively control and explore data.[13][14] In 2015, the American Statistical Association identified database management, statistics and machine learning, and distributed and parallel systems as the three emerging foundational professional communities.[15]'"
      ]
     },
     "execution_count": 22,
     "metadata": {},
     "output_type": "execute_result"
    }
   ],
   "source": [
    "TEXT\n"
   ]
  },
  {
   "cell_type": "code",
   "execution_count": 23,
   "id": "5f4e08fc",
   "metadata": {},
   "outputs": [
    {
     "data": {
      "text/plain": [
       "'{\"1\": {\"mcq\": \"multiple choice question\", \"options\": {\"a\": \"choice here\", \"b\": \"choice here\", \"c\": \"choice here\", \"d\": \"choice here\"}, \"correct\": \"correct answer\"}, \"2\": {\"mcq\": \"multiple choice question\", \"options\": {\"a\": \"choice here\", \"b\": \"choice here\", \"c\": \"choice here\", \"d\": \"choice here\"}, \"correct\": \"correct answer\"}, \"3\": {\"mcq\": \"multiple choice question\", \"options\": {\"a\": \"choice here\", \"b\": \"choice here\", \"c\": \"choice here\", \"d\": \"choice here\"}, \"correct\": \"correct answer\"}}'"
      ]
     },
     "execution_count": 23,
     "metadata": {},
     "output_type": "execute_result"
    }
   ],
   "source": [
    "# Serialize the Python dictionary into a JSON-formatted string\n",
    "json.dumps(RESPONSE_JSON)"
   ]
  },
  {
   "cell_type": "code",
   "execution_count": 24,
   "id": "c0a83c70",
   "metadata": {},
   "outputs": [
    {
     "data": {
      "text/plain": [
       "'mcq_count=5\\ngrade=1\\ntone=\"simple'"
      ]
     },
     "execution_count": 24,
     "metadata": {},
     "output_type": "execute_result"
    }
   ],
   "source": [
    "\"\"\"mcq_count=5\n",
    "grade=1\n",
    "tone=\"simple\"\"\""
   ]
  },
  {
   "cell_type": "code",
   "execution_count": 25,
   "metadata": {},
   "outputs": [],
   "source": [
    "NUMBER=5 \n",
    "SUBJECT=\"data science\"\n",
    "TONE=\"simple\"\n"
   ]
  },
  {
   "cell_type": "code",
   "execution_count": 26,
   "id": "dea3e2eb",
   "metadata": {},
   "outputs": [
    {
     "name": "stdout",
     "output_type": "stream",
     "text": [
      "\n",
      "\n",
      "\u001b[1m> Entering new SequentialChain chain...\u001b[0m\n",
      "\n",
      "\n",
      "\u001b[1m> Entering new LLMChain chain...\u001b[0m\n",
      "Prompt after formatting:\n",
      "\u001b[32;1m\u001b[1;3m\n",
      "Text:Data science is an interdisciplinary academic field[1] that uses statistics, scientific computing, scientific methods, processes, algorithms and systems to extract or extrapolate knowledge and insights from noisy, structured, and unstructured data.[2]\n",
      "\n",
      "Data science also integrates domain knowledge from the underlying application domain (e.g., natural sciences, information technology, and medicine).[3] Data science is multifaceted and can be described as a science, a research paradigm, a research method, a discipline, a workflow, and a profession.[4]\n",
      "\n",
      "Data science is a \"concept to unify statistics, data analysis, informatics, and their related methods\" to \"understand and analyze actual phenomena\" with data.[5] It uses techniques and theories drawn from many fields within the context of mathematics, statistics, computer science, information science, and domain knowledge.[6] However, data science is different from computer science and information science. Turing Award winner Jim Gray imagined data science as a \"fourth paradigm\" of science (empirical, theoretical, computational, and now data-driven) and asserted that \"everything about science is changing because of the impact of information technology\" and the data deluge.[7][8]\n",
      "\n",
      "A data scientist is a professional who creates programming code and combines it with statistical knowledge to create insights from data.[9]\n",
      "\n",
      "Foundations\n",
      "Data science is an interdisciplinary field[10] focused on extracting knowledge from typically large data sets and applying the knowledge and insights from that data to solve problems in a wide range of application domains. The field encompasses preparing data for analysis, formulating data science problems, analyzing data, developing data-driven solutions, and presenting findings to inform high-level decisions in a broad range of application domains. As such, it incorporates skills from computer science, statistics, information science, mathematics, data visualization, information visualization, data sonification, data integration, graphic design, complex systems, communication and business.[11][12] Statistician Nathan Yau, drawing on Ben Fry, also links data science to human–computer interaction: users should be able to intuitively control and explore data.[13][14] In 2015, the American Statistical Association identified database management, statistics and machine learning, and distributed and parallel systems as the three emerging foundational professional communities.[15]\n",
      "You are an expert MCQ maker. Given the above text, it is your job to create a quiz  of 5 multiple choice questions for data science students in simple tone. \n",
      "Make sure the questions are not repeated and check all the questions to be conforming the text as well.\n",
      "Make sure to format your response like  RESPONSE_JSON below  and use it as a guide. Ensure to make 5 MCQs\n",
      "### RESPONSE_JSON\n",
      "{\"1\": {\"mcq\": \"multiple choice question\", \"options\": {\"a\": \"choice here\", \"b\": \"choice here\", \"c\": \"choice here\", \"d\": \"choice here\"}, \"correct\": \"correct answer\"}, \"2\": {\"mcq\": \"multiple choice question\", \"options\": {\"a\": \"choice here\", \"b\": \"choice here\", \"c\": \"choice here\", \"d\": \"choice here\"}, \"correct\": \"correct answer\"}, \"3\": {\"mcq\": \"multiple choice question\", \"options\": {\"a\": \"choice here\", \"b\": \"choice here\", \"c\": \"choice here\", \"d\": \"choice here\"}, \"correct\": \"correct answer\"}}\n",
      "\n",
      "\u001b[0m\n",
      "\n",
      "\u001b[1m> Finished chain.\u001b[0m\n",
      "\n",
      "\n",
      "\u001b[1m> Entering new LLMChain chain...\u001b[0m\n",
      "Prompt after formatting:\n",
      "\u001b[32;1m\u001b[1;3m\n",
      "You are an expert english grammarian and writer. Given a Multiple Choice Quiz for data science students.You need to evaluate the complexity of the question and give a complete analysis of the quiz. Only use at max 50 words for complexity analysis. \n",
      "if the quiz is not at per with the cognitive and analytical abilities of the students,update the quiz questions which needs to be changed and change the tone such that it perfectly fits the student abilities\n",
      "Quiz_MCQs:\n",
      "```json\n",
      "{\n",
      "\"1\": {\n",
      "\"mcq\": \"What is the main goal of data science?\",\n",
      "\"options\": {\n",
      "\"a\": \"Creating complex computer programs\",\n",
      "\"b\": \"Extracting knowledge and insights from data\",\n",
      "\"c\": \"Designing user interfaces\",\n",
      "\"d\": \"Managing databases\"\n",
      "},\n",
      "\"correct\": \"b\"\n",
      "},\n",
      "\"2\": {\n",
      "\"mcq\": \"According to the text, what is data science NOT?\",\n",
      "\"options\": {\n",
      "\"a\": \"A research paradigm\",\n",
      "\"b\": \"A discipline\",\n",
      "\"c\": \"A type of food\",\n",
      "\"d\": \"A workflow\"\n",
      "},\n",
      "\"correct\": \"c\"\n",
      "},\n",
      "\"3\": {\n",
      "\"mcq\": \"Jim Gray described data science as the 'fourth paradigm' of science, building upon which three previous paradigms?\",\n",
      "\"options\": {\n",
      "\"a\": \"Biological, Chemical, and Physical\",\n",
      "\"b\": \"Empirical, Theoretical, and Computational\",\n",
      "\"c\": \"Mathematical, Statistical, and Informational\",\n",
      "\"d\": \"Historical, Philosophical, and Sociological\"\n",
      "},\n",
      "\"correct\": \"b\"\n",
      "},\n",
      "\"4\": {\n",
      "\"mcq\": \"A data scientist primarily combines programming code with what type of knowledge to generate insights?\",\n",
      "\"options\": {\n",
      "\"a\": \"Marketing knowledge\",\n",
      "\"b\": \"Statistical knowledge\",\n",
      "\"c\": \"Historical knowledge\",\n",
      "\"d\": \"Culinary knowledge\"\n",
      "},\n",
      "\"correct\": \"b\"\n",
      "},\n",
      "\"5\": {\n",
      "\"mcq\": \"Which of the following skills is NOT explicitly mentioned as being incorporated into data science?\",\n",
      "\"options\": {\n",
      "\"a\": \"Computer science\",\n",
      "\"b\": \"Statistics\",\n",
      "\"c\": \"Graphic design\",\n",
      "\"d\": \"Astronomy\"\n",
      "},\n",
      "\"correct\": \"d\"\n",
      "}\n",
      "}\n",
      "```\n",
      "\n",
      "Check from an expert English Writer of the above quiz:\n",
      "\u001b[0m\n",
      "\n",
      "\u001b[1m> Finished chain.\u001b[0m\n",
      "\n",
      "\u001b[1m> Finished chain.\u001b[0m\n"
     ]
    }
   ],
   "source": [
    "#https://python.langchain.com/docs/modules/model_io/llms/token_usage_tracking\n",
    "\n",
    "#How to setup Token Usage Tracking in LangChain\n",
    "with get_openai_callback() as cb:\n",
    "    response=generate_evaluate_chain(\n",
    "        {\n",
    "            \"text\": TEXT,\n",
    "            \"number\": NUMBER,\n",
    "            \"subject\":SUBJECT,\n",
    "            \"tone\": TONE,\n",
    "            \"response_json\": json.dumps(RESPONSE_JSON)\n",
    "        }\n",
    "        )\n",
    "# response = generate_evaluate_chain({\n",
    "#     \"text\": TEXT,\n",
    "#     \"number\": NUMBER,\n",
    "#     \"subject\": SUBJECT,\n",
    "#     \"tone\": TONE,\n",
    "#     \"response_json\": json.dumps(RESPONSE_JSON)\n",
    "# })\n"
   ]
  },
  {
   "cell_type": "code",
   "execution_count": 27,
   "id": "1217c80f",
   "metadata": {},
   "outputs": [
    {
     "name": "stdout",
     "output_type": "stream",
     "text": [
      "Total Tokens:2169\n",
      "Prompt Tokens:1225\n",
      "Completion Tokens:944\n",
      "Total Cost:0.0\n"
     ]
    }
   ],
   "source": [
    "print(f\"Total Tokens:{cb.total_tokens}\")\n",
    "print(f\"Prompt Tokens:{cb.prompt_tokens}\")\n",
    "print(f\"Completion Tokens:{cb.completion_tokens}\")\n",
    "print(f\"Total Cost:{cb.total_cost}\")"
   ]
  },
  {
   "cell_type": "code",
   "execution_count": 31,
   "id": "081b7de5",
   "metadata": {},
   "outputs": [
    {
     "data": {
      "text/plain": [
       "{'text': 'Data science is an interdisciplinary academic field[1] that uses statistics, scientific computing, scientific methods, processes, algorithms and systems to extract or extrapolate knowledge and insights from noisy, structured, and unstructured data.[2]\\n\\nData science also integrates domain knowledge from the underlying application domain (e.g., natural sciences, information technology, and medicine).[3] Data science is multifaceted and can be described as a science, a research paradigm, a research method, a discipline, a workflow, and a profession.[4]\\n\\nData science is a \"concept to unify statistics, data analysis, informatics, and their related methods\" to \"understand and analyze actual phenomena\" with data.[5] It uses techniques and theories drawn from many fields within the context of mathematics, statistics, computer science, information science, and domain knowledge.[6] However, data science is different from computer science and information science. Turing Award winner Jim Gray imagined data science as a \"fourth paradigm\" of science (empirical, theoretical, computational, and now data-driven) and asserted that \"everything about science is changing because of the impact of information technology\" and the data deluge.[7][8]\\n\\nA data scientist is a professional who creates programming code and combines it with statistical knowledge to create insights from data.[9]\\n\\nFoundations\\nData science is an interdisciplinary field[10] focused on extracting knowledge from typically large data sets and applying the knowledge and insights from that data to solve problems in a wide range of application domains. The field encompasses preparing data for analysis, formulating data science problems, analyzing data, developing data-driven solutions, and presenting findings to inform high-level decisions in a broad range of application domains. As such, it incorporates skills from computer science, statistics, information science, mathematics, data visualization, information visualization, data sonification, data integration, graphic design, complex systems, communication and business.[11][12] Statistician Nathan Yau, drawing on Ben Fry, also links data science to human–computer interaction: users should be able to intuitively control and explore data.[13][14] In 2015, the American Statistical Association identified database management, statistics and machine learning, and distributed and parallel systems as the three emerging foundational professional communities.[15]',\n",
       " 'number': 5,\n",
       " 'subject': 'data science',\n",
       " 'tone': 'simple',\n",
       " 'response_json': '{\"1\": {\"mcq\": \"multiple choice question\", \"options\": {\"a\": \"choice here\", \"b\": \"choice here\", \"c\": \"choice here\", \"d\": \"choice here\"}, \"correct\": \"correct answer\"}, \"2\": {\"mcq\": \"multiple choice question\", \"options\": {\"a\": \"choice here\", \"b\": \"choice here\", \"c\": \"choice here\", \"d\": \"choice here\"}, \"correct\": \"correct answer\"}, \"3\": {\"mcq\": \"multiple choice question\", \"options\": {\"a\": \"choice here\", \"b\": \"choice here\", \"c\": \"choice here\", \"d\": \"choice here\"}, \"correct\": \"correct answer\"}}',\n",
       " 'quiz': '```json\\n{\\n\"1\": {\\n\"mcq\": \"What is the main goal of data science?\",\\n\"options\": {\\n\"a\": \"Creating complex computer programs\",\\n\"b\": \"Extracting knowledge and insights from data\",\\n\"c\": \"Designing user interfaces\",\\n\"d\": \"Managing databases\"\\n},\\n\"correct\": \"b\"\\n},\\n\"2\": {\\n\"mcq\": \"According to the text, what is data science NOT?\",\\n\"options\": {\\n\"a\": \"A research paradigm\",\\n\"b\": \"A discipline\",\\n\"c\": \"A type of food\",\\n\"d\": \"A workflow\"\\n},\\n\"correct\": \"c\"\\n},\\n\"3\": {\\n\"mcq\": \"Jim Gray described data science as the \\'fourth paradigm\\' of science, building upon which three previous paradigms?\",\\n\"options\": {\\n\"a\": \"Biological, Chemical, and Physical\",\\n\"b\": \"Empirical, Theoretical, and Computational\",\\n\"c\": \"Mathematical, Statistical, and Informational\",\\n\"d\": \"Historical, Philosophical, and Sociological\"\\n},\\n\"correct\": \"b\"\\n},\\n\"4\": {\\n\"mcq\": \"A data scientist primarily combines programming code with what type of knowledge to generate insights?\",\\n\"options\": {\\n\"a\": \"Marketing knowledge\",\\n\"b\": \"Statistical knowledge\",\\n\"c\": \"Historical knowledge\",\\n\"d\": \"Culinary knowledge\"\\n},\\n\"correct\": \"b\"\\n},\\n\"5\": {\\n\"mcq\": \"Which of the following skills is NOT explicitly mentioned as being incorporated into data science?\",\\n\"options\": {\\n\"a\": \"Computer science\",\\n\"b\": \"Statistics\",\\n\"c\": \"Graphic design\",\\n\"d\": \"Astronomy\"\\n},\\n\"correct\": \"d\"\\n}\\n}\\n```',\n",
       " 'review': '**Complexity Analysis:**\\n\\nThe quiz is relatively straightforward, testing basic comprehension of data science definitions and core concepts. The language is accessible, but some questions could be more engaging for data science students.\\n\\n**Revised Quiz:**\\n\\nHere\\'s a revised quiz with a slightly more engaging and analytical tone, better suited for data science students:\\n\\n```json\\n{\\n\"1\": {\\n\"mcq\": \"What\\'s the *primary* aim of data science?\",\\n\"options\": {\\n\"a\": \"Developing sophisticated software applications.\",\\n\"b\": \"Uncovering meaningful patterns and insights from data.\",\\n\"c\": \"Creating intuitive user experiences.\",\\n\"d\": \"Administering and maintaining data storage systems.\"\\n},\\n\"correct\": \"b\"\\n},\\n\"2\": {\\n\"mcq\": \"Which of these options falls *outside* the realm of data science?\",\\n\"options\": {\\n\"a\": \"A structured method for investigation.\",\\n\"b\": \"An area of specialized study.\",\\n\"c\": \"A source of nutritional sustenance.\",\\n\"d\": \"A systematic process or methodology.\"\\n},\\n\"correct\": \"c\"\\n},\\n\"3\": {\\n\"mcq\": \"Jim Gray positioned data science as the \\'fourth paradigm\\' of scientific discovery. What were the three preceding paradigms upon which it builds?\",\\n\"options\": {\\n\"a\": \"Experimentation in biology, chemistry, and physics.\",\\n\"b\": \"Observation, theoretical modeling, and computational simulation.\",\\n\"c\": \"Mathematical proofs, statistical analysis, and information theory.\",\\n\"d\": \"Historical records, philosophical inquiry, and sociological studies.\"\\n},\\n\"correct\": \"b\"\\n},\\n\"4\": {\\n\"mcq\": \"To extract actionable insights, data scientists blend programming expertise with a strong foundation in:\",\\n\"options\": {\\n\"a\": \"Market research and consumer behavior.\",\\n\"b\": \"Statistical methods and data analysis techniques.\",\\n\"c\": \"Historical context and trend analysis.\",\\n\"d\": \"Culinary arts and food science.\"\\n},\\n\"correct\": \"b\"\\n},\\n\"5\": {\\n\"mcq\": \"Which skill, while potentially useful, is *least directly* considered a core component of data science?\",\\n\"options\": {\\n\"a\": \"Proficiency in computer programming.\",\\n\"b\": \"Expertise in statistical modeling.\",\\n\"c\": \"Competency in visual communication and design.\",\\n\"d\": \"Knowledge of celestial mechanics.\"\\n},\\n\"correct\": \"d\"\\n}\\n}\\n```'}"
      ]
     },
     "execution_count": 31,
     "metadata": {},
     "output_type": "execute_result"
    }
   ],
   "source": [
    "response"
   ]
  },
  {
   "cell_type": "code",
   "execution_count": null,
   "id": "0e316d5f",
   "metadata": {},
   "outputs": [
    {
     "name": "stdout",
     "output_type": "stream",
     "text": [
      "✅ Successfully parsed JSON.\n",
      "{'1': {'mcq': 'What is the main goal of data science?', 'options': {'a': 'Creating complex computer programs', 'b': 'Extracting knowledge and insights from data', 'c': 'Designing user interfaces', 'd': 'Managing databases'}, 'correct': 'b'}, '2': {'mcq': 'According to the text, what is data science NOT?', 'options': {'a': 'A research paradigm', 'b': 'A discipline', 'c': 'A type of food', 'd': 'A workflow'}, 'correct': 'c'}, '3': {'mcq': \"Jim Gray described data science as the 'fourth paradigm' of science, building upon which three previous paradigms?\", 'options': {'a': 'Biological, Chemical, and Physical', 'b': 'Empirical, Theoretical, and Computational', 'c': 'Mathematical, Statistical, and Informational', 'd': 'Historical, Philosophical, and Sociological'}, 'correct': 'b'}, '4': {'mcq': 'A data scientist primarily combines programming code with what type of knowledge to generate insights?', 'options': {'a': 'Marketing knowledge', 'b': 'Statistical knowledge', 'c': 'Historical knowledge', 'd': 'Culinary knowledge'}, 'correct': 'b'}, '5': {'mcq': 'Which of the following skills is NOT explicitly mentioned as being incorporated into data science?', 'options': {'a': 'Computer science', 'b': 'Statistics', 'c': 'Graphic design', 'd': 'Astronomy'}, 'correct': 'd'}}\n"
     ]
    }
   ],
   "source": [
    "import json\n",
    "import re\n",
    "\n",
    "# Original Gemini output\n",
    "quiz_str = response.get(\"quiz\", \"\")\n",
    "\n",
    "# Step 1: Remove ```json ... ``` wrapper\n",
    "cleaned = re.sub(r\"```json|```\", \"\", quiz_str).strip()\n",
    "\n",
    "# Step 2: Parse to Python dict\n",
    "try:\n",
    "    quiz_dict = json.loads(cleaned)\n",
    "    print(\"✅ Successfully parsed JSON.\")\n",
    "except json.JSONDecodeError as e:\n",
    "    print(\"❌ Failed to parse JSON:\", e)\n",
    "    print(\"Raw cleaned string:\\n\", cleaned)"
   ]
  },
  {
   "cell_type": "code",
   "execution_count": 36,
   "id": "d5bf8fee",
   "metadata": {},
   "outputs": [
    {
     "data": {
      "text/plain": [
       "{'1': {'mcq': 'What is the main goal of data science?',\n",
       "  'options': {'a': 'Creating complex computer programs',\n",
       "   'b': 'Extracting knowledge and insights from data',\n",
       "   'c': 'Designing user interfaces',\n",
       "   'd': 'Managing databases'},\n",
       "  'correct': 'b'},\n",
       " '2': {'mcq': 'According to the text, what is data science NOT?',\n",
       "  'options': {'a': 'A research paradigm',\n",
       "   'b': 'A discipline',\n",
       "   'c': 'A type of food',\n",
       "   'd': 'A workflow'},\n",
       "  'correct': 'c'},\n",
       " '3': {'mcq': \"Jim Gray described data science as the 'fourth paradigm' of science, building upon which three previous paradigms?\",\n",
       "  'options': {'a': 'Biological, Chemical, and Physical',\n",
       "   'b': 'Empirical, Theoretical, and Computational',\n",
       "   'c': 'Mathematical, Statistical, and Informational',\n",
       "   'd': 'Historical, Philosophical, and Sociological'},\n",
       "  'correct': 'b'},\n",
       " '4': {'mcq': 'A data scientist primarily combines programming code with what type of knowledge to generate insights?',\n",
       "  'options': {'a': 'Marketing knowledge',\n",
       "   'b': 'Statistical knowledge',\n",
       "   'c': 'Historical knowledge',\n",
       "   'd': 'Culinary knowledge'},\n",
       "  'correct': 'b'},\n",
       " '5': {'mcq': 'Which of the following skills is NOT explicitly mentioned as being incorporated into data science?',\n",
       "  'options': {'a': 'Computer science',\n",
       "   'b': 'Statistics',\n",
       "   'c': 'Graphic design',\n",
       "   'd': 'Astronomy'},\n",
       "  'correct': 'd'}}"
      ]
     },
     "execution_count": 36,
     "metadata": {},
     "output_type": "execute_result"
    }
   ],
   "source": [
    "quiz_dict"
   ]
  },
  {
   "cell_type": "code",
   "execution_count": 37,
   "id": "0d302c99",
   "metadata": {},
   "outputs": [],
   "source": [
    "quiz_table_data = []\n",
    "for key, value in quiz_dict.items():\n",
    "    mcq = value[\"mcq\"]\n",
    "    options = \" | \".join(\n",
    "        [\n",
    "            f\"{option}: {option_value}\"\n",
    "            for option, option_value in value[\"options\"].items()\n",
    "            ]\n",
    "        )\n",
    "    correct = value[\"correct\"]\n",
    "    quiz_table_data.append({\"MCQ\": mcq, \"Choices\": options, \"Correct\": correct})"
   ]
  },
  {
   "cell_type": "code",
   "execution_count": 38,
   "id": "3f4ff8d8",
   "metadata": {},
   "outputs": [
    {
     "data": {
      "text/plain": [
       "[{'MCQ': 'What is the main goal of data science?',\n",
       "  'Choices': 'a: Creating complex computer programs | b: Extracting knowledge and insights from data | c: Designing user interfaces | d: Managing databases',\n",
       "  'Correct': 'b'},\n",
       " {'MCQ': 'According to the text, what is data science NOT?',\n",
       "  'Choices': 'a: A research paradigm | b: A discipline | c: A type of food | d: A workflow',\n",
       "  'Correct': 'c'},\n",
       " {'MCQ': \"Jim Gray described data science as the 'fourth paradigm' of science, building upon which three previous paradigms?\",\n",
       "  'Choices': 'a: Biological, Chemical, and Physical | b: Empirical, Theoretical, and Computational | c: Mathematical, Statistical, and Informational | d: Historical, Philosophical, and Sociological',\n",
       "  'Correct': 'b'},\n",
       " {'MCQ': 'A data scientist primarily combines programming code with what type of knowledge to generate insights?',\n",
       "  'Choices': 'a: Marketing knowledge | b: Statistical knowledge | c: Historical knowledge | d: Culinary knowledge',\n",
       "  'Correct': 'b'},\n",
       " {'MCQ': 'Which of the following skills is NOT explicitly mentioned as being incorporated into data science?',\n",
       "  'Choices': 'a: Computer science | b: Statistics | c: Graphic design | d: Astronomy',\n",
       "  'Correct': 'd'}]"
      ]
     },
     "execution_count": 38,
     "metadata": {},
     "output_type": "execute_result"
    }
   ],
   "source": [
    "quiz_table_data"
   ]
  },
  {
   "cell_type": "code",
   "execution_count": 39,
   "id": "4e4b5798",
   "metadata": {},
   "outputs": [],
   "source": [
    "df=pd.DataFrame(quiz_table_data)"
   ]
  },
  {
   "cell_type": "code",
   "execution_count": 40,
   "id": "93fae6a1",
   "metadata": {},
   "outputs": [
    {
     "data": {
      "text/html": [
       "<div>\n",
       "<style scoped>\n",
       "    .dataframe tbody tr th:only-of-type {\n",
       "        vertical-align: middle;\n",
       "    }\n",
       "\n",
       "    .dataframe tbody tr th {\n",
       "        vertical-align: top;\n",
       "    }\n",
       "\n",
       "    .dataframe thead th {\n",
       "        text-align: right;\n",
       "    }\n",
       "</style>\n",
       "<table border=\"1\" class=\"dataframe\">\n",
       "  <thead>\n",
       "    <tr style=\"text-align: right;\">\n",
       "      <th></th>\n",
       "      <th>MCQ</th>\n",
       "      <th>Choices</th>\n",
       "      <th>Correct</th>\n",
       "    </tr>\n",
       "  </thead>\n",
       "  <tbody>\n",
       "    <tr>\n",
       "      <th>0</th>\n",
       "      <td>What is the main goal of data science?</td>\n",
       "      <td>a: Creating complex computer programs | b: Ext...</td>\n",
       "      <td>b</td>\n",
       "    </tr>\n",
       "    <tr>\n",
       "      <th>1</th>\n",
       "      <td>According to the text, what is data science NOT?</td>\n",
       "      <td>a: A research paradigm | b: A discipline | c: ...</td>\n",
       "      <td>c</td>\n",
       "    </tr>\n",
       "    <tr>\n",
       "      <th>2</th>\n",
       "      <td>Jim Gray described data science as the 'fourth...</td>\n",
       "      <td>a: Biological, Chemical, and Physical | b: Emp...</td>\n",
       "      <td>b</td>\n",
       "    </tr>\n",
       "    <tr>\n",
       "      <th>3</th>\n",
       "      <td>A data scientist primarily combines programmin...</td>\n",
       "      <td>a: Marketing knowledge | b: Statistical knowle...</td>\n",
       "      <td>b</td>\n",
       "    </tr>\n",
       "    <tr>\n",
       "      <th>4</th>\n",
       "      <td>Which of the following skills is NOT explicitl...</td>\n",
       "      <td>a: Computer science | b: Statistics | c: Graph...</td>\n",
       "      <td>d</td>\n",
       "    </tr>\n",
       "  </tbody>\n",
       "</table>\n",
       "</div>"
      ],
      "text/plain": [
       "                                                 MCQ  \\\n",
       "0             What is the main goal of data science?   \n",
       "1   According to the text, what is data science NOT?   \n",
       "2  Jim Gray described data science as the 'fourth...   \n",
       "3  A data scientist primarily combines programmin...   \n",
       "4  Which of the following skills is NOT explicitl...   \n",
       "\n",
       "                                             Choices Correct  \n",
       "0  a: Creating complex computer programs | b: Ext...       b  \n",
       "1  a: A research paradigm | b: A discipline | c: ...       c  \n",
       "2  a: Biological, Chemical, and Physical | b: Emp...       b  \n",
       "3  a: Marketing knowledge | b: Statistical knowle...       b  \n",
       "4  a: Computer science | b: Statistics | c: Graph...       d  "
      ]
     },
     "execution_count": 40,
     "metadata": {},
     "output_type": "execute_result"
    }
   ],
   "source": [
    "df"
   ]
  },
  {
   "cell_type": "code",
   "execution_count": 41,
   "id": "eec54f0d",
   "metadata": {},
   "outputs": [],
   "source": [
    "df.to_csv(\"Big_Data_Science_Quiz.csv\",index=False)"
   ]
  },
  {
   "cell_type": "code",
   "execution_count": 42,
   "id": "a38268f3",
   "metadata": {},
   "outputs": [
    {
     "name": "stderr",
     "output_type": "stream",
     "text": [
      "Traceback (most recent call last):\n",
      "  File \"C:\\Users\\muham\\AppData\\Local\\Temp\\ipykernel_12364\\2720247763.py\", line 3, in <module>\n",
      "    c=1/0\n",
      "      ~^~\n",
      "ZeroDivisionError: division by zero\n"
     ]
    }
   ],
   "source": [
    "import traceback\n",
    "try:\n",
    "    c=1/0\n",
    "except Exception as e:\n",
    "        traceback.print_exception(type(e), e, e.__traceback__)"
   ]
  },
  {
   "cell_type": "code",
   "execution_count": 43,
   "id": "8e00aa40",
   "metadata": {},
   "outputs": [],
   "source": [
    "import traceback\n",
    "try:\n",
    "    c=1/0\n",
    "except Exception as e:\n",
    "    tb=e.__traceback__"
   ]
  },
  {
   "cell_type": "code",
   "execution_count": 44,
   "id": "5ff07add",
   "metadata": {},
   "outputs": [
    {
     "name": "stdout",
     "output_type": "stream",
     "text": [
      "File 'C:\\Users\\muham\\AppData\\Local\\Temp\\ipykernel_12364\\977600961.py', line 5, in <module>\n"
     ]
    }
   ],
   "source": [
    "while tb is not None:\n",
    "    frame = tb.tb_frame\n",
    "    filename = frame.f_code.co_filename\n",
    "    lineno = frame.f_lineno\n",
    "    function_name = frame.f_code.co_name\n",
    "\n",
    "    print(f\"File '{filename}', line {lineno}, in {function_name}\")\n",
    "    tb = tb.tb_next  # Move to the next frame in the traceback"
   ]
  },
  {
   "cell_type": "code",
   "execution_count": null,
   "id": "37a4497d",
   "metadata": {},
   "outputs": [],
   "source": []
  }
 ],
 "metadata": {
  "kernelspec": {
   "display_name": "Python 3",
   "language": "python",
   "name": "python3"
  },
  "language_info": {
   "codemirror_mode": {
    "name": "ipython",
    "version": 3
   },
   "file_extension": ".py",
   "mimetype": "text/x-python",
   "name": "python",
   "nbconvert_exporter": "python",
   "pygments_lexer": "ipython3",
   "version": "3.13.3"
  }
 },
 "nbformat": 4,
 "nbformat_minor": 5
}
