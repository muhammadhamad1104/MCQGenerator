{
 "cells": [
  {
   "cell_type": "code",
   "execution_count": 7,
   "id": "34a6ade4",
   "metadata": {},
   "outputs": [],
   "source": [
    "from langchain.llms import OpenAI\n",
    "from langchain_google_genai import ChatGoogleGenerativeAI\n",
    "from langchain.chat_models import ChatOpenAI\n",
    "from langchain.prompts import PromptTemplate\n",
    "from langchain.chains import LLMChain\n",
    "from langchain.chains import SequentialChain\n",
    "from langchain.callbacks import get_openai_callback\n",
    "import os\n",
    "import json\n",
    "import pandas as pd\n",
    "import traceback\n",
    "from dotenv import load_dotenv\n",
    "import PyPDF2"
   ]
  },
  {
   "cell_type": "code",
   "execution_count": 8,
   "id": "f9ca3f5f",
   "metadata": {},
   "outputs": [
    {
     "data": {
      "text/plain": [
       "True"
      ]
     },
     "execution_count": 8,
     "metadata": {},
     "output_type": "execute_result"
    }
   ],
   "source": [
    "load_dotenv()"
   ]
  },
  {
   "cell_type": "code",
   "execution_count": 9,
   "id": "ac24d917",
   "metadata": {},
   "outputs": [],
   "source": [
    "# key = os.getenv(\"OPENAI_API_KEY\")\n",
    "key = os.getenv(\"GEMINI_API_KEY\")"
   ]
  },
  {
   "cell_type": "code",
   "execution_count": 10,
   "id": "9ebcf213",
   "metadata": {},
   "outputs": [],
   "source": [
    "# llm = ChatOpenAI(openai_api_key=key,model_name=\"gpt-3.5-turbo\", temperature=0.3)\n",
    "llm = ChatGoogleGenerativeAI(model=\"gemini-2.0-flash\", google_api_key=key,temperature=0.7)"
   ]
  },
  {
   "cell_type": "code",
   "execution_count": 11,
   "id": "09a6a117",
   "metadata": {},
   "outputs": [],
   "source": [
    "RESPONSE_JSON = {\n",
    "    \"1\": {\n",
    "        \"mcq\": \"multiple choice question\",\n",
    "        \"options\": {\n",
    "            \"a\": \"choice here\",\n",
    "            \"b\": \"choice here\",\n",
    "            \"c\": \"choice here\",\n",
    "            \"d\": \"choice here\",\n",
    "        },\n",
    "        \"correct\": \"correct answer\",\n",
    "    },\n",
    "    \"2\": {\n",
    "        \"mcq\": \"multiple choice question\",\n",
    "        \"options\": {\n",
    "            \"a\": \"choice here\",\n",
    "            \"b\": \"choice here\",\n",
    "            \"c\": \"choice here\",\n",
    "            \"d\": \"choice here\",\n",
    "        },\n",
    "        \"correct\": \"correct answer\",\n",
    "    },\n",
    "    \"3\": {\n",
    "        \"mcq\": \"multiple choice question\",\n",
    "        \"options\": {\n",
    "            \"a\": \"choice here\",\n",
    "            \"b\": \"choice here\",\n",
    "            \"c\": \"choice here\",\n",
    "            \"d\": \"choice here\",\n",
    "        },\n",
    "        \"correct\": \"correct answer\",\n",
    "    },\n",
    "}\n"
   ]
  },
  {
   "cell_type": "code",
   "execution_count": 12,
   "id": "b600aa4c",
   "metadata": {},
   "outputs": [
    {
     "data": {
      "text/plain": [
       "'\\nnumber=5 \\nsubject=\"data science\"\\ntone=\"simple\"\\n'"
      ]
     },
     "execution_count": 12,
     "metadata": {},
     "output_type": "execute_result"
    }
   ],
   "source": [
    "\"\"\"\n",
    "number=5 \n",
    "subject=\"data science\"\n",
    "tone=\"simple\"\n",
    "\"\"\""
   ]
  },
  {
   "cell_type": "code",
   "execution_count": 13,
   "id": "619fa64e",
   "metadata": {},
   "outputs": [],
   "source": [
    "TEMPLATE=\"\"\"\n",
    "Text:{text}\n",
    "You are an expert MCQ maker. Given the above text, it is your job to \\\n",
    "create a quiz  of {number} multiple choice questions for {subject} students in {tone} tone. \n",
    "Make sure the questions are not repeated and check all the questions to be conforming the text as well.\n",
    "Make sure to format your response like  RESPONSE_JSON below  and use it as a guide. \\\n",
    "Ensure to make {number} MCQs\n",
    "### RESPONSE_JSON\n",
    "{response_json}\n",
    "\n",
    "\"\"\""
   ]
  },
  {
   "cell_type": "code",
   "execution_count": 14,
   "id": "d27b1155",
   "metadata": {},
   "outputs": [],
   "source": [
    "quiz_generation_prompt = PromptTemplate(\n",
    "    input_variables=[\"text\", \"number\", \"subject\", \"tone\", \"response_json\"],\n",
    "    template=TEMPLATE\n",
    "    )\n"
   ]
  },
  {
   "cell_type": "code",
   "execution_count": 15,
   "id": "6a096a72",
   "metadata": {},
   "outputs": [
    {
     "data": {
      "text/plain": [
       "PromptTemplate(input_variables=['number', 'response_json', 'subject', 'text', 'tone'], input_types={}, partial_variables={}, template='\\nText:{text}\\nYou are an expert MCQ maker. Given the above text, it is your job to create a quiz  of {number} multiple choice questions for {subject} students in {tone} tone. \\nMake sure the questions are not repeated and check all the questions to be conforming the text as well.\\nMake sure to format your response like  RESPONSE_JSON below  and use it as a guide. Ensure to make {number} MCQs\\n### RESPONSE_JSON\\n{response_json}\\n\\n')"
      ]
     },
     "execution_count": 15,
     "metadata": {},
     "output_type": "execute_result"
    }
   ],
   "source": [
    "quiz_generation_prompt"
   ]
  },
  {
   "cell_type": "code",
   "execution_count": 16,
   "id": "3dfef61b",
   "metadata": {},
   "outputs": [
    {
     "name": "stderr",
     "output_type": "stream",
     "text": [
      "C:\\Users\\Dell\\AppData\\Local\\Temp\\ipykernel_13236\\2669661367.py:1: LangChainDeprecationWarning: The class `LLMChain` was deprecated in LangChain 0.1.17 and will be removed in 1.0. Use :meth:`~RunnableSequence, e.g., `prompt | llm`` instead.\n",
      "  quiz_chain=LLMChain(llm=llm, prompt=quiz_generation_prompt, output_key=\"quiz\", verbose=True)\n"
     ]
    }
   ],
   "source": [
    "quiz_chain=LLMChain(llm=llm, prompt=quiz_generation_prompt, output_key=\"quiz\", verbose=True)"
   ]
  },
  {
   "cell_type": "code",
   "execution_count": 17,
   "id": "d6312a8e",
   "metadata": {},
   "outputs": [],
   "source": [
    "TEMPLATE1=\"\"\"\n",
    "You are an expert english grammarian and writer. Given a Multiple Choice Quiz for {subject} students.\\\n",
    "You need to evaluate the complexity of the question and give a complete analysis of the quiz. Only use at max 50 words for complexity analysis. \n",
    "if the quiz is not at per with the cognitive and analytical abilities of the students,\\\n",
    "update the quiz questions which needs to be changed and change the tone such that it perfectly fits the student abilities\n",
    "Quiz_MCQs:\n",
    "{quiz}\n",
    "\n",
    "Check from an expert English Writer of the above quiz:\n",
    "\"\"\""
   ]
  },
  {
   "cell_type": "code",
   "execution_count": 18,
   "id": "f28f18d4",
   "metadata": {},
   "outputs": [],
   "source": [
    "quiz_evaluation_prompt=PromptTemplate(input_variables=[\"subject\", \"quiz\"], template=TEMPLATE1)"
   ]
  },
  {
   "cell_type": "code",
   "execution_count": 19,
   "id": "31f7e038",
   "metadata": {},
   "outputs": [],
   "source": [
    "review_chain=LLMChain(llm=llm, prompt=quiz_evaluation_prompt, output_key=\"review\", verbose=True)"
   ]
  },
  {
   "cell_type": "code",
   "execution_count": 20,
   "id": "961aea16",
   "metadata": {},
   "outputs": [],
   "source": [
    "generate_evaluate_chain=SequentialChain(chains=[quiz_chain, review_chain], input_variables=[\"text\", \"number\", \"subject\", \"tone\", \"response_json\"],\n",
    "                                        output_variables=[\"quiz\", \"review\"], verbose=True,)"
   ]
  },
  {
   "cell_type": "code",
   "execution_count": 21,
   "id": "8e683596",
   "metadata": {},
   "outputs": [
    {
     "name": "stderr",
     "output_type": "stream",
     "text": [
      "<>:1: SyntaxWarning: invalid escape sequence '\\B'\n",
      "<>:1: SyntaxWarning: invalid escape sequence '\\B'\n",
      "C:\\Users\\Dell\\AppData\\Local\\Temp\\ipykernel_13236\\1089060505.py:1: SyntaxWarning: invalid escape sequence '\\B'\n",
      "  \"\"\"pdf_reader=PyPDF2.PdfReader(r\"experiments\\Big Data Assesment.pdf\")\n"
     ]
    },
    {
     "data": {
      "text/plain": [
       "'pdf_reader=PyPDF2.PdfReader(r\"experiments\\\\Big Data Assesment.pdf\")\\ntext = \"\"\\nfor page in pdf_reader.pages:\\n    text += page.extract_text()'"
      ]
     },
     "execution_count": 21,
     "metadata": {},
     "output_type": "execute_result"
    }
   ],
   "source": [
    "\"\"\"pdf_reader=PyPDF2.PdfReader(r\"experiments\\Big Data Assesment.pdf\")\n",
    "text = \"\"\n",
    "for page in pdf_reader.pages:\n",
    "    text += page.extract_text()\"\"\""
   ]
  },
  {
   "cell_type": "code",
   "execution_count": 22,
   "id": "5a50d1c5",
   "metadata": {},
   "outputs": [],
   "source": [
    "from pathlib import Path\n",
    "file_path=r\"E:\\hamad\\MCQGenerator\\test.txt\""
   ]
  },
  {
   "cell_type": "code",
   "execution_count": 23,
   "id": "9e24e9d3",
   "metadata": {},
   "outputs": [
    {
     "data": {
      "text/plain": [
       "'E:\\\\hamad\\\\MCQGenerator\\\\test.txt'"
      ]
     },
     "execution_count": 23,
     "metadata": {},
     "output_type": "execute_result"
    }
   ],
   "source": [
    "file_path"
   ]
  },
  {
   "cell_type": "code",
   "execution_count": 24,
   "id": "e961afa2",
   "metadata": {},
   "outputs": [],
   "source": [
    "with open(file_path, 'r') as file:\n",
    "    TEXT = file.read()"
   ]
  },
  {
   "cell_type": "code",
   "execution_count": 25,
   "id": "ed73c2a0",
   "metadata": {},
   "outputs": [
    {
     "data": {
      "text/plain": [
       "'Data science is an interdisciplinary academic field[1] that uses statistics, scientific computing, scientific methods, processes, algorithms and systems to extract or extrapolate knowledge and insights from noisy, structured, and unstructured data.[2]\\n\\nData science also integrates domain knowledge from the underlying application domain (e.g., natural sciences, information technology, and medicine).[3] Data science is multifaceted and can be described as a science, a research paradigm, a research method, a discipline, a workflow, and a profession.[4]\\n\\nData science is a \"concept to unify statistics, data analysis, informatics, and their related methods\" to \"understand and analyze actual phenomena\" with data.[5] It uses techniques and theories drawn from many fields within the context of mathematics, statistics, computer science, information science, and domain knowledge.[6] However, data science is different from computer science and information science. Turing Award winner Jim Gray imagined data science as a \"fourth paradigm\" of science (empirical, theoretical, computational, and now data-driven) and asserted that \"everything about science is changing because of the impact of information technology\" and the data deluge.[7][8]\\n\\nA data scientist is a professional who creates programming code and combines it with statistical knowledge to create insights from data.[9]\\n\\nFoundations\\nData science is an interdisciplinary field[10] focused on extracting knowledge from typically large data sets and applying the knowledge and insights from that data to solve problems in a wide range of application domains. The field encompasses preparing data for analysis, formulating data science problems, analyzing data, developing data-driven solutions, and presenting findings to inform high-level decisions in a broad range of application domains. As such, it incorporates skills from computer science, statistics, information science, mathematics, data visualization, information visualization, data sonification, data integration, graphic design, complex systems, communication and business.[11][12] Statistician Nathan Yau, drawing on Ben Fry, also links data science to humanâ€“computer interaction: users should be able to intuitively control and explore data.[13][14] In 2015, the American Statistical Association identified database management, statistics and machine learning, and distributed and parallel systems as the three emerging foundational professional communities.[15]'"
      ]
     },
     "execution_count": 25,
     "metadata": {},
     "output_type": "execute_result"
    }
   ],
   "source": [
    "TEXT\n"
   ]
  },
  {
   "cell_type": "code",
   "execution_count": 26,
   "id": "5f4e08fc",
   "metadata": {},
   "outputs": [
    {
     "data": {
      "text/plain": [
       "'{\"1\": {\"mcq\": \"multiple choice question\", \"options\": {\"a\": \"choice here\", \"b\": \"choice here\", \"c\": \"choice here\", \"d\": \"choice here\"}, \"correct\": \"correct answer\"}, \"2\": {\"mcq\": \"multiple choice question\", \"options\": {\"a\": \"choice here\", \"b\": \"choice here\", \"c\": \"choice here\", \"d\": \"choice here\"}, \"correct\": \"correct answer\"}, \"3\": {\"mcq\": \"multiple choice question\", \"options\": {\"a\": \"choice here\", \"b\": \"choice here\", \"c\": \"choice here\", \"d\": \"choice here\"}, \"correct\": \"correct answer\"}}'"
      ]
     },
     "execution_count": 26,
     "metadata": {},
     "output_type": "execute_result"
    }
   ],
   "source": [
    "# Serialize the Python dictionary into a JSON-formatted string\n",
    "json.dumps(RESPONSE_JSON)"
   ]
  },
  {
   "cell_type": "code",
   "execution_count": 27,
   "id": "c0a83c70",
   "metadata": {},
   "outputs": [
    {
     "data": {
      "text/plain": [
       "'mcq_count=5\\ngrade=1\\ntone=\"simple'"
      ]
     },
     "execution_count": 27,
     "metadata": {},
     "output_type": "execute_result"
    }
   ],
   "source": [
    "\"\"\"mcq_count=5\n",
    "grade=1\n",
    "tone=\"simple\"\"\""
   ]
  },
  {
   "cell_type": "code",
   "execution_count": 28,
   "metadata": {},
   "outputs": [],
   "source": [
    "NUMBER=5 \n",
    "SUBJECT=\"data science\"\n",
    "TONE=\"simple\"\n"
   ]
  },
  {
   "cell_type": "code",
   "execution_count": 29,
   "id": "dea3e2eb",
   "metadata": {},
   "outputs": [
    {
     "name": "stderr",
     "output_type": "stream",
     "text": [
      "C:\\Users\\Dell\\AppData\\Local\\Temp\\ipykernel_13236\\4292446166.py:5: LangChainDeprecationWarning: The method `Chain.__call__` was deprecated in langchain 0.1.0 and will be removed in 1.0. Use :meth:`~invoke` instead.\n",
      "  response=generate_evaluate_chain(\n"
     ]
    },
    {
     "name": "stdout",
     "output_type": "stream",
     "text": [
      "\n",
      "\n",
      "\u001b[1m> Entering new SequentialChain chain...\u001b[0m\n",
      "\n",
      "\n",
      "\u001b[1m> Entering new LLMChain chain...\u001b[0m\n",
      "Prompt after formatting:\n",
      "\u001b[32;1m\u001b[1;3m\n",
      "Text:Data science is an interdisciplinary academic field[1] that uses statistics, scientific computing, scientific methods, processes, algorithms and systems to extract or extrapolate knowledge and insights from noisy, structured, and unstructured data.[2]\n",
      "\n",
      "Data science also integrates domain knowledge from the underlying application domain (e.g., natural sciences, information technology, and medicine).[3] Data science is multifaceted and can be described as a science, a research paradigm, a research method, a discipline, a workflow, and a profession.[4]\n",
      "\n",
      "Data science is a \"concept to unify statistics, data analysis, informatics, and their related methods\" to \"understand and analyze actual phenomena\" with data.[5] It uses techniques and theories drawn from many fields within the context of mathematics, statistics, computer science, information science, and domain knowledge.[6] However, data science is different from computer science and information science. Turing Award winner Jim Gray imagined data science as a \"fourth paradigm\" of science (empirical, theoretical, computational, and now data-driven) and asserted that \"everything about science is changing because of the impact of information technology\" and the data deluge.[7][8]\n",
      "\n",
      "A data scientist is a professional who creates programming code and combines it with statistical knowledge to create insights from data.[9]\n",
      "\n",
      "Foundations\n",
      "Data science is an interdisciplinary field[10] focused on extracting knowledge from typically large data sets and applying the knowledge and insights from that data to solve problems in a wide range of application domains. The field encompasses preparing data for analysis, formulating data science problems, analyzing data, developing data-driven solutions, and presenting findings to inform high-level decisions in a broad range of application domains. As such, it incorporates skills from computer science, statistics, information science, mathematics, data visualization, information visualization, data sonification, data integration, graphic design, complex systems, communication and business.[11][12] Statistician Nathan Yau, drawing on Ben Fry, also links data science to humanâ€“computer interaction: users should be able to intuitively control and explore data.[13][14] In 2015, the American Statistical Association identified database management, statistics and machine learning, and distributed and parallel systems as the three emerging foundational professional communities.[15]\n",
      "You are an expert MCQ maker. Given the above text, it is your job to create a quiz  of 5 multiple choice questions for data science students in simple tone. \n",
      "Make sure the questions are not repeated and check all the questions to be conforming the text as well.\n",
      "Make sure to format your response like  RESPONSE_JSON below  and use it as a guide. Ensure to make 5 MCQs\n",
      "### RESPONSE_JSON\n",
      "{\"1\": {\"mcq\": \"multiple choice question\", \"options\": {\"a\": \"choice here\", \"b\": \"choice here\", \"c\": \"choice here\", \"d\": \"choice here\"}, \"correct\": \"correct answer\"}, \"2\": {\"mcq\": \"multiple choice question\", \"options\": {\"a\": \"choice here\", \"b\": \"choice here\", \"c\": \"choice here\", \"d\": \"choice here\"}, \"correct\": \"correct answer\"}, \"3\": {\"mcq\": \"multiple choice question\", \"options\": {\"a\": \"choice here\", \"b\": \"choice here\", \"c\": \"choice here\", \"d\": \"choice here\"}, \"correct\": \"correct answer\"}}\n",
      "\n",
      "\u001b[0m\n",
      "\n",
      "\u001b[1m> Finished chain.\u001b[0m\n",
      "\n",
      "\n",
      "\u001b[1m> Entering new LLMChain chain...\u001b[0m\n",
      "Prompt after formatting:\n",
      "\u001b[32;1m\u001b[1;3m\n",
      "You are an expert english grammarian and writer. Given a Multiple Choice Quiz for data science students.You need to evaluate the complexity of the question and give a complete analysis of the quiz. Only use at max 50 words for complexity analysis. \n",
      "if the quiz is not at per with the cognitive and analytical abilities of the students,update the quiz questions which needs to be changed and change the tone such that it perfectly fits the student abilities\n",
      "Quiz_MCQs:\n",
      "```json\n",
      "{\n",
      "\"1\": {\n",
      "\"mcq\": \"Data science is best described as a field that:\",\n",
      "\"options\": {\n",
      "\"a\": \"Focuses solely on creating complex computer programs.\",\n",
      "\"b\": \"Uses data to understand and analyze real-world situations.\",\n",
      "\"c\": \"Deals exclusively with theoretical mathematical concepts.\",\n",
      "\"d\": \"Replaces traditional scientific methods with data analysis.\"\n",
      "},\n",
      "\"correct\": \"b\"\n",
      "},\n",
      "\"2\": {\n",
      "\"mcq\": \"Which of the following is NOT explicitly mentioned as a skill incorporated into data science?\",\n",
      "\"options\": {\n",
      "\"a\": \"Computer Science\",\n",
      "\"b\": \"Statistics\",\n",
      "\"c\": \"Graphic Design\",\n",
      "\"d\": \"Astrophysics\"\n",
      "},\n",
      "\"correct\": \"d\"\n",
      "},\n",
      "\"3\": {\n",
      "\"mcq\": \"According to Jim Gray, data science represents a 'fourth paradigm' of science, building upon which of the following?\",\n",
      "\"options\": {\n",
      "\"a\": \"Alchemy, astrology, and numerology\",\n",
      "\"b\": \"Empirical, theoretical, and computational methods\",\n",
      "\"c\": \"Intuition, guesswork, and speculation\",\n",
      "\"d\": \"Traditional laboratory experiments only\"\n",
      "},\n",
      "\"correct\": \"b\"\n",
      "},\n",
      "\"4\": {\n",
      "\"mcq\": \"A data scientist primarily uses programming and statistical knowledge to:\",\n",
      "\"options\": {\n",
      "\"a\": \"Write complex algorithms for software development.\",\n",
      "\"b\": \"Create insights and understanding from data.\",\n",
      "\"c\": \"Manage computer networks and infrastructure.\",\n",
      "\"d\": \"Develop new statistical theories.\"\n",
      "},\n",
      "\"correct\": \"b\"\n",
      "},\n",
      "\"5\": {\n",
      "\"mcq\": \"Which of the following emerging foundational professional communities was identified by the American Statistical Association in 2015 as important to data science?\",\n",
      "\"options\": {\n",
      "\"a\": \"Quantum Physics, String Theory, and Cosmology\",\n",
      "\"b\": \"Database management, statistics and machine learning, and distributed and parallel systems\",\n",
      "\"c\": \"Literature, History and Arts\",\n",
      "\"d\": \"Culinary Arts, Music and Dance\"\n",
      "},\n",
      "\"correct\": \"b\"\n",
      "}\n",
      "}\n",
      "```\n",
      "\n",
      "Check from an expert English Writer of the above quiz:\n",
      "\u001b[0m\n",
      "\n",
      "\u001b[1m> Finished chain.\u001b[0m\n",
      "\n",
      "\u001b[1m> Finished chain.\u001b[0m\n"
     ]
    }
   ],
   "source": [
    "#https://python.langchain.com/docs/modules/model_io/llms/token_usage_tracking\n",
    "\n",
    "#How to setup Token Usage Tracking in LangChain\n",
    "with get_openai_callback() as cb:\n",
    "    response=generate_evaluate_chain(\n",
    "        {\n",
    "            \"text\": TEXT,\n",
    "            \"number\": NUMBER,\n",
    "            \"subject\":SUBJECT,\n",
    "            \"tone\": TONE,\n",
    "            \"response_json\": json.dumps(RESPONSE_JSON)\n",
    "        }\n",
    "        )\n",
    "# response = generate_evaluate_chain({\n",
    "#     \"text\": TEXT,\n",
    "#     \"number\": NUMBER,\n",
    "#     \"subject\": SUBJECT,\n",
    "#     \"tone\": TONE,\n",
    "#     \"response_json\": json.dumps(RESPONSE_JSON)\n",
    "# })\n"
   ]
  },
  {
   "cell_type": "code",
   "execution_count": 30,
   "id": "1217c80f",
   "metadata": {},
   "outputs": [
    {
     "name": "stdout",
     "output_type": "stream",
     "text": [
      "Total Tokens:2503\n",
      "Prompt Tokens:1293\n",
      "Completion Tokens:1210\n",
      "Total Cost:0.0\n"
     ]
    }
   ],
   "source": [
    "print(f\"Total Tokens:{cb.total_tokens}\")\n",
    "print(f\"Prompt Tokens:{cb.prompt_tokens}\")\n",
    "print(f\"Completion Tokens:{cb.completion_tokens}\")\n",
    "print(f\"Total Cost:{cb.total_cost}\")"
   ]
  },
  {
   "cell_type": "code",
   "execution_count": 31,
   "id": "081b7de5",
   "metadata": {},
   "outputs": [
    {
     "data": {
      "text/plain": [
       "{'text': 'Data science is an interdisciplinary academic field[1] that uses statistics, scientific computing, scientific methods, processes, algorithms and systems to extract or extrapolate knowledge and insights from noisy, structured, and unstructured data.[2]\\n\\nData science also integrates domain knowledge from the underlying application domain (e.g., natural sciences, information technology, and medicine).[3] Data science is multifaceted and can be described as a science, a research paradigm, a research method, a discipline, a workflow, and a profession.[4]\\n\\nData science is a \"concept to unify statistics, data analysis, informatics, and their related methods\" to \"understand and analyze actual phenomena\" with data.[5] It uses techniques and theories drawn from many fields within the context of mathematics, statistics, computer science, information science, and domain knowledge.[6] However, data science is different from computer science and information science. Turing Award winner Jim Gray imagined data science as a \"fourth paradigm\" of science (empirical, theoretical, computational, and now data-driven) and asserted that \"everything about science is changing because of the impact of information technology\" and the data deluge.[7][8]\\n\\nA data scientist is a professional who creates programming code and combines it with statistical knowledge to create insights from data.[9]\\n\\nFoundations\\nData science is an interdisciplinary field[10] focused on extracting knowledge from typically large data sets and applying the knowledge and insights from that data to solve problems in a wide range of application domains. The field encompasses preparing data for analysis, formulating data science problems, analyzing data, developing data-driven solutions, and presenting findings to inform high-level decisions in a broad range of application domains. As such, it incorporates skills from computer science, statistics, information science, mathematics, data visualization, information visualization, data sonification, data integration, graphic design, complex systems, communication and business.[11][12] Statistician Nathan Yau, drawing on Ben Fry, also links data science to humanâ€“computer interaction: users should be able to intuitively control and explore data.[13][14] In 2015, the American Statistical Association identified database management, statistics and machine learning, and distributed and parallel systems as the three emerging foundational professional communities.[15]',\n",
       " 'number': 5,\n",
       " 'subject': 'data science',\n",
       " 'tone': 'simple',\n",
       " 'response_json': '{\"1\": {\"mcq\": \"multiple choice question\", \"options\": {\"a\": \"choice here\", \"b\": \"choice here\", \"c\": \"choice here\", \"d\": \"choice here\"}, \"correct\": \"correct answer\"}, \"2\": {\"mcq\": \"multiple choice question\", \"options\": {\"a\": \"choice here\", \"b\": \"choice here\", \"c\": \"choice here\", \"d\": \"choice here\"}, \"correct\": \"correct answer\"}, \"3\": {\"mcq\": \"multiple choice question\", \"options\": {\"a\": \"choice here\", \"b\": \"choice here\", \"c\": \"choice here\", \"d\": \"choice here\"}, \"correct\": \"correct answer\"}}',\n",
       " 'quiz': '```json\\n{\\n\"1\": {\\n\"mcq\": \"Data science is best described as a field that:\",\\n\"options\": {\\n\"a\": \"Focuses solely on creating complex computer programs.\",\\n\"b\": \"Uses data to understand and analyze real-world situations.\",\\n\"c\": \"Deals exclusively with theoretical mathematical concepts.\",\\n\"d\": \"Replaces traditional scientific methods with data analysis.\"\\n},\\n\"correct\": \"b\"\\n},\\n\"2\": {\\n\"mcq\": \"Which of the following is NOT explicitly mentioned as a skill incorporated into data science?\",\\n\"options\": {\\n\"a\": \"Computer Science\",\\n\"b\": \"Statistics\",\\n\"c\": \"Graphic Design\",\\n\"d\": \"Astrophysics\"\\n},\\n\"correct\": \"d\"\\n},\\n\"3\": {\\n\"mcq\": \"According to Jim Gray, data science represents a \\'fourth paradigm\\' of science, building upon which of the following?\",\\n\"options\": {\\n\"a\": \"Alchemy, astrology, and numerology\",\\n\"b\": \"Empirical, theoretical, and computational methods\",\\n\"c\": \"Intuition, guesswork, and speculation\",\\n\"d\": \"Traditional laboratory experiments only\"\\n},\\n\"correct\": \"b\"\\n},\\n\"4\": {\\n\"mcq\": \"A data scientist primarily uses programming and statistical knowledge to:\",\\n\"options\": {\\n\"a\": \"Write complex algorithms for software development.\",\\n\"b\": \"Create insights and understanding from data.\",\\n\"c\": \"Manage computer networks and infrastructure.\",\\n\"d\": \"Develop new statistical theories.\"\\n},\\n\"correct\": \"b\"\\n},\\n\"5\": {\\n\"mcq\": \"Which of the following emerging foundational professional communities was identified by the American Statistical Association in 2015 as important to data science?\",\\n\"options\": {\\n\"a\": \"Quantum Physics, String Theory, and Cosmology\",\\n\"b\": \"Database management, statistics and machine learning, and distributed and parallel systems\",\\n\"c\": \"Literature, History and Arts\",\\n\"d\": \"Culinary Arts, Music and Dance\"\\n},\\n\"correct\": \"b\"\\n}\\n}\\n```',\n",
       " 'review': 'Okay, here\\'s an analysis and potential revision of the data science quiz, designed for data science students.\\n\\n**Complexity Analysis:**\\n\\nThe quiz is generally appropriate but requires domain knowledge. Questions 2, 3, and 5 are more knowledge-based and may be challenging if students haven\\'t specifically studied those areas. Question 5 is particularly dense.\\n\\n**Revised Quiz:**\\n\\nHere\\'s a revised version, aiming for clarity and a slightly more engaging tone:\\n\\n```json\\n{\\n\"1\": {\\n\"mcq\": \"Data science is best at:\",\\n\"options\": {\\n\"a\": \"Writing complicated computer code.\",\\n\"b\": \"Using data to understand the world around us.\",\\n\"c\": \"Studying math theories.\",\\n\"d\": \"Replacing old science with data analysis.\"\\n},\\n\"correct\": \"b\"\\n},\\n\"2\": {\\n\"mcq\": \"Which of these skills is *least* likely to be used in data science?\",\\n\"options\": {\\n\"a\": \"Computer Science\",\\n\"b\": \"Statistics\",\\n\"c\": \"Graphic Design\",\\n\"d\": \"Machine learning\"\\n},\\n\"correct\": \"c\"\\n},\\n\"3\": {\\n\"mcq\": \"Jim Gray described data science as a \\'fourth paradigm\\' of science. What ideas did it build on?\",\\n\"options\": {\\n\"a\": \"Alchemy and astrology (old magic!)\",\\n\"b\": \"Experimenting, theorizing, and using computers\",\\n\"c\": \"Guessing and hoping for the best\",\\n\"d\": \"Just doing lab experiments\"\\n},\\n\"correct\": \"b\"\\n},\\n\"4\": {\\n\"mcq\": \"A data scientist mainly uses programming and statistics to:\",\\n\"options\": {\\n\"a\": \"Build software.\",\\n\"b\": \"Find patterns and meaning in data.\",\\n\"c\": \"Manage computer networks.\",\\n\"d\": \"Invent new statistics.\"\\n},\\n\"correct\": \"b\"\\n},\\n\"5\": {\\n\"mcq\": \"In 2015, the American Statistical Association highlighted important communities for data science. Which of these is most relevant?\",\\n\"options\": {\\n\"a\": \"Quantum Physics and String Theory.\",\\n\"b\": \"Databases, statistics/machine learning, and parallel computing.\",\\n\"c\": \"Literature and History.\",\\n\"d\": \"Cooking and Music.\"\\n},\\n\"correct\": \"b\"\\n}\\n}\\n```\\n\\n**Changes Made and Rationale:**\\n\\n*   **Simplified Language:** Replaced complex words (e.g., \"explicitly mentioned,\" \"foundational professional communities\") with simpler alternatives.\\n*   **Rephrased Questions:** Made questions more direct and easier to understand at a glance.\\n*   **Added Context/Hints:** For example, in question 3, added \"(old magic!)\" to option \\'a\\' to make it clearly incorrect.\\n*   **More Relevant Distractors:** In question 2, changed \"Astrophysics\" to \"Machine Learning\" since a student might confuse it with the data analysis involved in Astrophysics.\\n*   **Removed Jargon:** Avoided overly technical terms where possible.\\n*   **More conversational tone:** The language is slightly more informal and engaging.\\n*   **Question 5:** Shortened the options and simplified the language to focus on the core concepts.\\n\\nThe goal is to assess understanding of data science principles without unnecessarily tripping students up with overly complex wording or obscure references.'}"
      ]
     },
     "execution_count": 31,
     "metadata": {},
     "output_type": "execute_result"
    }
   ],
   "source": [
    "response"
   ]
  },
  {
   "cell_type": "code",
   "execution_count": 32,
   "id": "0e316d5f",
   "metadata": {},
   "outputs": [
    {
     "name": "stdout",
     "output_type": "stream",
     "text": [
      "✅ Successfully parsed JSON.\n"
     ]
    }
   ],
   "source": [
    "import json\n",
    "import re\n",
    "\n",
    "# Original Gemini output\n",
    "quiz_str = response.get(\"quiz\", \"\")\n",
    "\n",
    "# Step 1: Remove ```json ... ``` wrapper\n",
    "cleaned = re.sub(r\"```json|```\", \"\", quiz_str).strip()\n",
    "\n",
    "# Step 2: Parse to Python dict\n",
    "try:\n",
    "    quiz_dict = json.loads(cleaned)\n",
    "    print(\"✅ Successfully parsed JSON.\")\n",
    "except json.JSONDecodeError as e:\n",
    "    print(\"❌ Failed to parse JSON:\", e)\n",
    "    print(\"Raw cleaned string:\\n\", cleaned)"
   ]
  },
  {
   "cell_type": "code",
   "execution_count": 33,
   "id": "d5bf8fee",
   "metadata": {},
   "outputs": [
    {
     "data": {
      "text/plain": [
       "{'1': {'mcq': 'Data science is best described as a field that:',\n",
       "  'options': {'a': 'Focuses solely on creating complex computer programs.',\n",
       "   'b': 'Uses data to understand and analyze real-world situations.',\n",
       "   'c': 'Deals exclusively with theoretical mathematical concepts.',\n",
       "   'd': 'Replaces traditional scientific methods with data analysis.'},\n",
       "  'correct': 'b'},\n",
       " '2': {'mcq': 'Which of the following is NOT explicitly mentioned as a skill incorporated into data science?',\n",
       "  'options': {'a': 'Computer Science',\n",
       "   'b': 'Statistics',\n",
       "   'c': 'Graphic Design',\n",
       "   'd': 'Astrophysics'},\n",
       "  'correct': 'd'},\n",
       " '3': {'mcq': \"According to Jim Gray, data science represents a 'fourth paradigm' of science, building upon which of the following?\",\n",
       "  'options': {'a': 'Alchemy, astrology, and numerology',\n",
       "   'b': 'Empirical, theoretical, and computational methods',\n",
       "   'c': 'Intuition, guesswork, and speculation',\n",
       "   'd': 'Traditional laboratory experiments only'},\n",
       "  'correct': 'b'},\n",
       " '4': {'mcq': 'A data scientist primarily uses programming and statistical knowledge to:',\n",
       "  'options': {'a': 'Write complex algorithms for software development.',\n",
       "   'b': 'Create insights and understanding from data.',\n",
       "   'c': 'Manage computer networks and infrastructure.',\n",
       "   'd': 'Develop new statistical theories.'},\n",
       "  'correct': 'b'},\n",
       " '5': {'mcq': 'Which of the following emerging foundational professional communities was identified by the American Statistical Association in 2015 as important to data science?',\n",
       "  'options': {'a': 'Quantum Physics, String Theory, and Cosmology',\n",
       "   'b': 'Database management, statistics and machine learning, and distributed and parallel systems',\n",
       "   'c': 'Literature, History and Arts',\n",
       "   'd': 'Culinary Arts, Music and Dance'},\n",
       "  'correct': 'b'}}"
      ]
     },
     "execution_count": 33,
     "metadata": {},
     "output_type": "execute_result"
    }
   ],
   "source": [
    "quiz_dict"
   ]
  },
  {
   "cell_type": "code",
   "execution_count": 34,
   "id": "0d302c99",
   "metadata": {},
   "outputs": [],
   "source": [
    "quiz_table_data = []\n",
    "for key, value in quiz_dict.items():\n",
    "    mcq = value[\"mcq\"]\n",
    "    options = \" | \".join(\n",
    "        [\n",
    "            f\"{option}: {option_value}\"\n",
    "            for option, option_value in value[\"options\"].items()\n",
    "            ]\n",
    "        )\n",
    "    correct = value[\"correct\"]\n",
    "    quiz_table_data.append({\"MCQ\": mcq, \"Choices\": options, \"Correct\": correct})"
   ]
  },
  {
   "cell_type": "code",
   "execution_count": 35,
   "id": "3f4ff8d8",
   "metadata": {},
   "outputs": [
    {
     "data": {
      "text/plain": [
       "[{'MCQ': 'Data science is best described as a field that:',\n",
       "  'Choices': 'a: Focuses solely on creating complex computer programs. | b: Uses data to understand and analyze real-world situations. | c: Deals exclusively with theoretical mathematical concepts. | d: Replaces traditional scientific methods with data analysis.',\n",
       "  'Correct': 'b'},\n",
       " {'MCQ': 'Which of the following is NOT explicitly mentioned as a skill incorporated into data science?',\n",
       "  'Choices': 'a: Computer Science | b: Statistics | c: Graphic Design | d: Astrophysics',\n",
       "  'Correct': 'd'},\n",
       " {'MCQ': \"According to Jim Gray, data science represents a 'fourth paradigm' of science, building upon which of the following?\",\n",
       "  'Choices': 'a: Alchemy, astrology, and numerology | b: Empirical, theoretical, and computational methods | c: Intuition, guesswork, and speculation | d: Traditional laboratory experiments only',\n",
       "  'Correct': 'b'},\n",
       " {'MCQ': 'A data scientist primarily uses programming and statistical knowledge to:',\n",
       "  'Choices': 'a: Write complex algorithms for software development. | b: Create insights and understanding from data. | c: Manage computer networks and infrastructure. | d: Develop new statistical theories.',\n",
       "  'Correct': 'b'},\n",
       " {'MCQ': 'Which of the following emerging foundational professional communities was identified by the American Statistical Association in 2015 as important to data science?',\n",
       "  'Choices': 'a: Quantum Physics, String Theory, and Cosmology | b: Database management, statistics and machine learning, and distributed and parallel systems | c: Literature, History and Arts | d: Culinary Arts, Music and Dance',\n",
       "  'Correct': 'b'}]"
      ]
     },
     "execution_count": 35,
     "metadata": {},
     "output_type": "execute_result"
    }
   ],
   "source": [
    "quiz_table_data"
   ]
  },
  {
   "cell_type": "code",
   "execution_count": 36,
   "id": "4e4b5798",
   "metadata": {},
   "outputs": [],
   "source": [
    "df=pd.DataFrame(quiz_table_data)"
   ]
  },
  {
   "cell_type": "code",
   "execution_count": 37,
   "id": "93fae6a1",
   "metadata": {},
   "outputs": [
    {
     "data": {
      "text/html": [
       "<div>\n",
       "<style scoped>\n",
       "    .dataframe tbody tr th:only-of-type {\n",
       "        vertical-align: middle;\n",
       "    }\n",
       "\n",
       "    .dataframe tbody tr th {\n",
       "        vertical-align: top;\n",
       "    }\n",
       "\n",
       "    .dataframe thead th {\n",
       "        text-align: right;\n",
       "    }\n",
       "</style>\n",
       "<table border=\"1\" class=\"dataframe\">\n",
       "  <thead>\n",
       "    <tr style=\"text-align: right;\">\n",
       "      <th></th>\n",
       "      <th>MCQ</th>\n",
       "      <th>Choices</th>\n",
       "      <th>Correct</th>\n",
       "    </tr>\n",
       "  </thead>\n",
       "  <tbody>\n",
       "    <tr>\n",
       "      <th>0</th>\n",
       "      <td>Data science is best described as a field that:</td>\n",
       "      <td>a: Focuses solely on creating complex computer...</td>\n",
       "      <td>b</td>\n",
       "    </tr>\n",
       "    <tr>\n",
       "      <th>1</th>\n",
       "      <td>Which of the following is NOT explicitly menti...</td>\n",
       "      <td>a: Computer Science | b: Statistics | c: Graph...</td>\n",
       "      <td>d</td>\n",
       "    </tr>\n",
       "    <tr>\n",
       "      <th>2</th>\n",
       "      <td>According to Jim Gray, data science represents...</td>\n",
       "      <td>a: Alchemy, astrology, and numerology | b: Emp...</td>\n",
       "      <td>b</td>\n",
       "    </tr>\n",
       "    <tr>\n",
       "      <th>3</th>\n",
       "      <td>A data scientist primarily uses programming an...</td>\n",
       "      <td>a: Write complex algorithms for software devel...</td>\n",
       "      <td>b</td>\n",
       "    </tr>\n",
       "    <tr>\n",
       "      <th>4</th>\n",
       "      <td>Which of the following emerging foundational p...</td>\n",
       "      <td>a: Quantum Physics, String Theory, and Cosmolo...</td>\n",
       "      <td>b</td>\n",
       "    </tr>\n",
       "  </tbody>\n",
       "</table>\n",
       "</div>"
      ],
      "text/plain": [
       "                                                 MCQ  \\\n",
       "0    Data science is best described as a field that:   \n",
       "1  Which of the following is NOT explicitly menti...   \n",
       "2  According to Jim Gray, data science represents...   \n",
       "3  A data scientist primarily uses programming an...   \n",
       "4  Which of the following emerging foundational p...   \n",
       "\n",
       "                                             Choices Correct  \n",
       "0  a: Focuses solely on creating complex computer...       b  \n",
       "1  a: Computer Science | b: Statistics | c: Graph...       d  \n",
       "2  a: Alchemy, astrology, and numerology | b: Emp...       b  \n",
       "3  a: Write complex algorithms for software devel...       b  \n",
       "4  a: Quantum Physics, String Theory, and Cosmolo...       b  "
      ]
     },
     "execution_count": 37,
     "metadata": {},
     "output_type": "execute_result"
    }
   ],
   "source": [
    "df"
   ]
  },
  {
   "cell_type": "code",
   "execution_count": 38,
   "id": "eec54f0d",
   "metadata": {},
   "outputs": [],
   "source": [
    "df.to_csv(\"Big_Data_Science.csv\",index=False)"
   ]
  },
  {
   "cell_type": "code",
   "execution_count": 39,
   "id": "a38268f3",
   "metadata": {},
   "outputs": [
    {
     "name": "stderr",
     "output_type": "stream",
     "text": [
      "Traceback (most recent call last):\n",
      "  File \"C:\\Users\\Dell\\AppData\\Local\\Temp\\ipykernel_13236\\2720247763.py\", line 3, in <module>\n",
      "    c=1/0\n",
      "      ~^~\n",
      "ZeroDivisionError: division by zero\n"
     ]
    }
   ],
   "source": [
    "import traceback\n",
    "try:\n",
    "    c=1/0\n",
    "except Exception as e:\n",
    "        traceback.print_exception(type(e), e, e.__traceback__)"
   ]
  },
  {
   "cell_type": "code",
   "execution_count": 40,
   "id": "8e00aa40",
   "metadata": {},
   "outputs": [],
   "source": [
    "import traceback\n",
    "try:\n",
    "    c=1/0\n",
    "except Exception as e:\n",
    "    tb=e.__traceback__"
   ]
  },
  {
   "cell_type": "code",
   "execution_count": 41,
   "id": "5ff07add",
   "metadata": {},
   "outputs": [
    {
     "name": "stdout",
     "output_type": "stream",
     "text": [
      "File 'C:\\Users\\Dell\\AppData\\Local\\Temp\\ipykernel_13236\\977600961.py', line 5, in <module>\n"
     ]
    }
   ],
   "source": [
    "while tb is not None:\n",
    "    frame = tb.tb_frame\n",
    "    filename = frame.f_code.co_filename\n",
    "    lineno = frame.f_lineno\n",
    "    function_name = frame.f_code.co_name\n",
    "\n",
    "    print(f\"File '{filename}', line {lineno}, in {function_name}\")\n",
    "    tb = tb.tb_next  # Move to the next frame in the traceback"
   ]
  },
  {
   "cell_type": "code",
   "execution_count": null,
   "id": "37a4497d",
   "metadata": {},
   "outputs": [],
   "source": []
  }
 ],
 "metadata": {
  "kernelspec": {
   "display_name": "env",
   "language": "python",
   "name": "python3"
  },
  "language_info": {
   "codemirror_mode": {
    "name": "ipython",
    "version": 3
   },
   "file_extension": ".py",
   "mimetype": "text/x-python",
   "name": "python",
   "nbconvert_exporter": "python",
   "pygments_lexer": "ipython3",
   "version": "3.13.3"
  }
 },
 "nbformat": 4,
 "nbformat_minor": 5
}
